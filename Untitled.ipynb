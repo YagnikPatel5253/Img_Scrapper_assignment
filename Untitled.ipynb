{
 "cells": [
  {
   "cell_type": "markdown",
   "id": "e7cbdfec-41cd-4821-80f1-b5117c8146df",
   "metadata": {},
   "source": [
    "Question 1"
   ]
  },
  {
   "cell_type": "code",
   "execution_count": 30,
   "id": "4c86667a-65d4-4362-93f3-fa11fe0f9985",
   "metadata": {},
   "outputs": [
    {
     "name": "stdout",
     "output_type": "stream",
     "text": [
      "Requirement already satisfied: flask in /opt/conda/lib/python3.10/site-packages (2.3.2)\n",
      "Requirement already satisfied: Werkzeug>=2.3.3 in /opt/conda/lib/python3.10/site-packages (from flask) (2.3.6)\n",
      "Requirement already satisfied: click>=8.1.3 in /opt/conda/lib/python3.10/site-packages (from flask) (8.1.3)\n",
      "Requirement already satisfied: blinker>=1.6.2 in /opt/conda/lib/python3.10/site-packages (from flask) (1.6.2)\n",
      "Requirement already satisfied: itsdangerous>=2.1.2 in /opt/conda/lib/python3.10/site-packages (from flask) (2.1.2)\n",
      "Requirement already satisfied: Jinja2>=3.1.2 in /opt/conda/lib/python3.10/site-packages (from flask) (3.1.2)\n",
      "Requirement already satisfied: MarkupSafe>=2.0 in /opt/conda/lib/python3.10/site-packages (from Jinja2>=3.1.2->flask) (2.1.1)\n",
      "Note: you may need to restart the kernel to use updated packages.\n"
     ]
    }
   ],
   "source": [
    "pip install flask"
   ]
  },
  {
   "cell_type": "code",
   "execution_count": 32,
   "id": "ee186633-5fd5-4dcd-ba59-523b18a997e2",
   "metadata": {},
   "outputs": [
    {
     "name": "stdout",
     "output_type": "stream",
     "text": [
      "Collecting flask_cors\n",
      "  Downloading Flask_Cors-4.0.0-py2.py3-none-any.whl (14 kB)\n",
      "Requirement already satisfied: Flask>=0.9 in /opt/conda/lib/python3.10/site-packages (from flask_cors) (2.3.2)\n",
      "Requirement already satisfied: itsdangerous>=2.1.2 in /opt/conda/lib/python3.10/site-packages (from Flask>=0.9->flask_cors) (2.1.2)\n",
      "Requirement already satisfied: Jinja2>=3.1.2 in /opt/conda/lib/python3.10/site-packages (from Flask>=0.9->flask_cors) (3.1.2)\n",
      "Requirement already satisfied: blinker>=1.6.2 in /opt/conda/lib/python3.10/site-packages (from Flask>=0.9->flask_cors) (1.6.2)\n",
      "Requirement already satisfied: Werkzeug>=2.3.3 in /opt/conda/lib/python3.10/site-packages (from Flask>=0.9->flask_cors) (2.3.6)\n",
      "Requirement already satisfied: click>=8.1.3 in /opt/conda/lib/python3.10/site-packages (from Flask>=0.9->flask_cors) (8.1.3)\n",
      "Requirement already satisfied: MarkupSafe>=2.0 in /opt/conda/lib/python3.10/site-packages (from Jinja2>=3.1.2->Flask>=0.9->flask_cors) (2.1.1)\n",
      "Installing collected packages: flask_cors\n",
      "Successfully installed flask_cors-4.0.0\n",
      "Note: you may need to restart the kernel to use updated packages.\n"
     ]
    }
   ],
   "source": [
    "pip install flask_cors"
   ]
  },
  {
   "cell_type": "code",
   "execution_count": 33,
   "id": "01b7ae08-268c-46b6-b1d5-80081c6ca63c",
   "metadata": {},
   "outputs": [],
   "source": [
    "from flask import Flask, render_template, request, jsonify\n",
    "from flask_cors import CORS, cross_origin\n",
    "import logging\n",
    "import requests\n",
    "import re\n",
    "import pandas as pd"
   ]
  },
  {
   "cell_type": "code",
   "execution_count": 35,
   "id": "778ff038-1bf4-486c-ae51-4c7a21fc3d89",
   "metadata": {},
   "outputs": [
    {
     "name": "stdout",
     "output_type": "stream",
     "text": [
      "200\n"
     ]
    }
   ],
   "source": [
    "query = 'PW-Foundation'\n",
    "url = f'https://www.youtube.com/@{query}/videos'\n",
    "\n",
    "headers = {\"User-Agent\": \"Mozilla/5.0 (Windows NT 10.0; Win64; x64) AppleWebKit/537.36 (KHTML, like Gecko) Chrome/58.0.3029.110 Safari/537.36\"}\n",
    "response = requests.get(url, headers=headers)\n",
    "print(response.status_code)\n",
    "response_text = response.text"
   ]
  },
  {
   "cell_type": "code",
   "execution_count": 40,
   "id": "f1388f2a-7993-451e-a2f3-966ace950aff",
   "metadata": {},
   "outputs": [],
   "source": [
    "vid_titles = re.findall('\"title\":{\"runs\":\\[{\"text\":\".*?\"', response_text)"
   ]
  },
  {
   "cell_type": "code",
   "execution_count": 41,
   "id": "1313d104-ee46-481a-a010-0f5559bcb958",
   "metadata": {},
   "outputs": [
    {
     "data": {
      "text/plain": [
       "['\"title\":{\"runs\":[{\"text\":\"⚡Unleashing the Power of PW Internationally⚡| Launching Physics Wallah Gulf\"',\n",
       " '\"title\":{\"runs\":[{\"text\":\"Big Announcement for Gulf Region Aspirants 🔥| Physics Wallah Gulf Channel Trailer🚀\"',\n",
       " '\"title\":{\"runs\":[{\"text\":\"Arjuna JEE v/s Arjuna NEET 🏏- Class 11th Faculties ka Cricket Match 🔥\"',\n",
       " '\"title\":{\"runs\":[{\"text\":\"How to Study Zoology in Class 11th? Ab Saare Doubts Solve Honge !! 🔥\"',\n",
       " '\"title\":{\"runs\":[{\"text\":\"BIGGEST OFFER For Class - 8th ,9th \\\\u0026 10th Students 🤩 || Grab This Opportunity Now 🔥\"',\n",
       " '\"title\":{\"runs\":[{\"text\":\"Launching PW प्रयोगशाला 2.0 🔥 || The Unbeatable is Loading...\"',\n",
       " '\"title\":{\"runs\":[{\"text\":\"UDAAN Hindi Batch 🔥| Class 10th वालों के बच्चें के लिए Surprises 🎉🎉 #3SaalLajawaab\"',\n",
       " '\"title\":{\"runs\":[{\"text\":\"NEEV 2.0 Batch 🔥 | Class 9th वालों के बच्चें के लिए Surprises 🎉🎉 #3SaalLajawaab\"',\n",
       " '\"title\":{\"runs\":[{\"text\":\"How to Study Botany in Class 11th? Ab Saare Doubts Solve Honge !! 🔥\"',\n",
       " '\"title\":{\"runs\":[{\"text\":\"How To Prepare For National Science Olympiad? 🔥 || A Complete Guide For Class 9th \\\\u0026 10th Students\"',\n",
       " '\"title\":{\"runs\":[{\"text\":\"How to Study Physics in Class 11th? Ab Saare Numericals Solve Honge !! 🔥\"',\n",
       " '\"title\":{\"runs\":[{\"text\":\"Why Maximum Students WASTED their Class 11th? The HARSH TRUTH !!\"',\n",
       " '\"title\":{\"runs\":[{\"text\":\"Meet Bhakti Agrawal : The Topper of Our CBSE Board Class - 10th 2023 🔥\"',\n",
       " '\"title\":{\"runs\":[{\"text\":\"How To Plan Maths Strategy For Class -10th To Score 95%+ Marks || CBSE Boards 🔥\"',\n",
       " '\"title\":{\"runs\":[{\"text\":\"Meet Dilisha Rajput : The Topper of Our CBSE Board Class - 10th 2023 🔥\"',\n",
       " '\"title\":{\"runs\":[{\"text\":\"Olympiad Challengers Batch For Our Udaan \\\\u0026 Victory Students || Class-10th🔥\"',\n",
       " '\"title\":{\"runs\":[{\"text\":\"How to Join Indian Army After 10th ?? | Detailed Explanation 🔥🔥\"',\n",
       " '\"title\":{\"runs\":[{\"text\":\"PW की कहानी, TOPPERS की जुबानी || Celebrating the Success of Our Class-10th Toppers⚡🤩\"',\n",
       " '\"title\":{\"runs\":[{\"text\":\"Big Announcement For Class 10th HINDI MEDIUM Students 🔥 #Trailer💥\"',\n",
       " '\"title\":{\"runs\":[{\"text\":\"India\\'s Biggest Scholarship Test For All Students 🔥 || Watch This Video Now💯\"',\n",
       " '\"title\":{\"runs\":[{\"text\":\"How To Start Class-10th History \\\\u0026 Civics  || ICSE Board || Follow This Strategy Plan 🔥\"',\n",
       " '\"title\":{\"runs\":[{\"text\":\"How To Start Class-10th Geography || ICSE Board || Complete Roadmap For All Students🔥\"',\n",
       " '\"title\":{\"runs\":[{\"text\":\"How To Start Class -10th Chemistry || ICSE Board || Complete Plan To Score 95%+ Marks\"',\n",
       " '\"title\":{\"runs\":[{\"text\":\"Complete Plan to Start Class-9th Science || Follow This Master Strategy to score more than 95% ⚡⚡\"',\n",
       " '\"title\":{\"runs\":[{\"text\":\"Best Way To Start Class -9th English 💥 || Master Strategy Plan || Follow this ⚡⚡\"',\n",
       " '\"title\":{\"runs\":[{\"text\":\"PWSAT Is Back Again!! 🔥 || India\\'s Biggest Scholarship Test || Watch This ⚡⚡\"',\n",
       " '\"title\":{\"runs\":[{\"text\":\"Finally The Wait is Over 🔥 || Icse Batch Coming Soon || Must Watch 🔥🔥\"',\n",
       " '\"title\":{\"runs\":[{\"text\":\"Best Strategy To Start Class-9th SST || Don\\'t Miss This Video🛑 || Complete Roadmap\"',\n",
       " '\"title\":{\"runs\":[{\"text\":\"Finally The Wait is Over🔥 || Launching Foundation Channels in 5 Different Languages 🤩\"',\n",
       " '\"title\":{\"runs\":[{\"text\":\"How To Plan For Class-11th || Perfect Strategy 💯 || A Complete Roadmap!!\"',\n",
       " '\"title\":{\"runs\":[{\"text\":\"Keyboard shortcuts\"',\n",
       " '\"title\":{\"runs\":[{\"text\":\"Playback\"',\n",
       " '\"title\":{\"runs\":[{\"text\":\"General\"',\n",
       " '\"title\":{\"runs\":[{\"text\":\"Subtitles and closed captions\"',\n",
       " '\"title\":{\"runs\":[{\"text\":\"Spherical videos\"']"
      ]
     },
     "execution_count": 41,
     "metadata": {},
     "output_type": "execute_result"
    }
   ],
   "source": [
    "vid_titles"
   ]
  },
  {
   "cell_type": "code",
   "execution_count": 44,
   "id": "911071de-dffb-4e9f-8a84-0f6bc869f7e3",
   "metadata": {},
   "outputs": [
    {
     "data": {
      "text/plain": [
       "['https://i.ytimg.com/vi/1izKrQHyx9M/hqdefault.jpg',\n",
       " 'https://i.ytimg.com/vi/1izKrQHyx9M/hqdefault.jpg',\n",
       " 'https://i.ytimg.com/vi/1izKrQHyx9M/hqdefault.jpg',\n",
       " 'https://i.ytimg.com/vi/1izKrQHyx9M/hqdefault.jpg',\n",
       " 'https://i.ytimg.com/vi/jXAb1evxaJc/hqdefault.jpg',\n",
       " 'https://i.ytimg.com/vi/jXAb1evxaJc/hqdefault.jpg',\n",
       " 'https://i.ytimg.com/vi/jXAb1evxaJc/hqdefault.jpg',\n",
       " 'https://i.ytimg.com/vi/jXAb1evxaJc/hqdefault.jpg',\n",
       " 'https://i.ytimg.com/vi/2dn7XMxRtPE/hqdefault.jpg',\n",
       " 'https://i.ytimg.com/vi/2dn7XMxRtPE/hqdefault.jpg',\n",
       " 'https://i.ytimg.com/vi/2dn7XMxRtPE/hqdefault.jpg',\n",
       " 'https://i.ytimg.com/vi/2dn7XMxRtPE/hqdefault.jpg',\n",
       " 'https://i.ytimg.com/vi/Fks4dVnTb5M/hqdefault.jpg',\n",
       " 'https://i.ytimg.com/vi/Fks4dVnTb5M/hqdefault.jpg',\n",
       " 'https://i.ytimg.com/vi/Fks4dVnTb5M/hqdefault.jpg',\n",
       " 'https://i.ytimg.com/vi/Fks4dVnTb5M/hqdefault.jpg',\n",
       " 'https://i.ytimg.com/vi/nIuGXeISbSo/hqdefault.jpg',\n",
       " 'https://i.ytimg.com/vi/nIuGXeISbSo/hqdefault.jpg',\n",
       " 'https://i.ytimg.com/vi/nIuGXeISbSo/hqdefault.jpg',\n",
       " 'https://i.ytimg.com/vi/nIuGXeISbSo/hqdefault.jpg',\n",
       " 'https://i.ytimg.com/vi/p9pqo970kjw/hqdefault.jpg',\n",
       " 'https://i.ytimg.com/vi/p9pqo970kjw/hqdefault.jpg',\n",
       " 'https://i.ytimg.com/vi/p9pqo970kjw/hqdefault.jpg',\n",
       " 'https://i.ytimg.com/vi/p9pqo970kjw/hqdefault.jpg',\n",
       " 'https://i.ytimg.com/vi/L5G-0FbyAsc/hqdefault.jpg',\n",
       " 'https://i.ytimg.com/vi/L5G-0FbyAsc/hqdefault.jpg',\n",
       " 'https://i.ytimg.com/vi/L5G-0FbyAsc/hqdefault.jpg',\n",
       " 'https://i.ytimg.com/vi/L5G-0FbyAsc/hqdefault.jpg',\n",
       " 'https://i.ytimg.com/vi/uqDX6hcRf2I/hqdefault.jpg',\n",
       " 'https://i.ytimg.com/vi/uqDX6hcRf2I/hqdefault.jpg',\n",
       " 'https://i.ytimg.com/vi/uqDX6hcRf2I/hqdefault.jpg',\n",
       " 'https://i.ytimg.com/vi/uqDX6hcRf2I/hqdefault.jpg',\n",
       " 'https://i.ytimg.com/vi/9ZVfDuqKIQM/hqdefault.jpg',\n",
       " 'https://i.ytimg.com/vi/9ZVfDuqKIQM/hqdefault.jpg',\n",
       " 'https://i.ytimg.com/vi/9ZVfDuqKIQM/hqdefault.jpg',\n",
       " 'https://i.ytimg.com/vi/9ZVfDuqKIQM/hqdefault.jpg',\n",
       " 'https://i.ytimg.com/vi/1wMGzlQTyeM/hqdefault.jpg',\n",
       " 'https://i.ytimg.com/vi/1wMGzlQTyeM/hqdefault.jpg',\n",
       " 'https://i.ytimg.com/vi/1wMGzlQTyeM/hqdefault.jpg',\n",
       " 'https://i.ytimg.com/vi/1wMGzlQTyeM/hqdefault.jpg',\n",
       " 'https://i.ytimg.com/vi/ivS0xPAbVUs/hqdefault.jpg',\n",
       " 'https://i.ytimg.com/vi/ivS0xPAbVUs/hqdefault.jpg',\n",
       " 'https://i.ytimg.com/vi/ivS0xPAbVUs/hqdefault.jpg',\n",
       " 'https://i.ytimg.com/vi/ivS0xPAbVUs/hqdefault.jpg',\n",
       " 'https://i.ytimg.com/vi/UJb799ZLCwQ/hqdefault.jpg',\n",
       " 'https://i.ytimg.com/vi/UJb799ZLCwQ/hqdefault.jpg',\n",
       " 'https://i.ytimg.com/vi/UJb799ZLCwQ/hqdefault.jpg',\n",
       " 'https://i.ytimg.com/vi/UJb799ZLCwQ/hqdefault.jpg',\n",
       " 'https://i.ytimg.com/vi/RPCHRtdO9hg/hqdefault.jpg',\n",
       " 'https://i.ytimg.com/vi/RPCHRtdO9hg/hqdefault.jpg',\n",
       " 'https://i.ytimg.com/vi/RPCHRtdO9hg/hqdefault.jpg',\n",
       " 'https://i.ytimg.com/vi/RPCHRtdO9hg/hqdefault.jpg',\n",
       " 'https://i.ytimg.com/vi/iN2UWJW3lzo/hqdefault.jpg',\n",
       " 'https://i.ytimg.com/vi/iN2UWJW3lzo/hqdefault.jpg',\n",
       " 'https://i.ytimg.com/vi/iN2UWJW3lzo/hqdefault.jpg',\n",
       " 'https://i.ytimg.com/vi/iN2UWJW3lzo/hqdefault.jpg',\n",
       " 'https://i.ytimg.com/vi/lRle7Jzciq8/hqdefault.jpg',\n",
       " 'https://i.ytimg.com/vi/lRle7Jzciq8/hqdefault.jpg',\n",
       " 'https://i.ytimg.com/vi/lRle7Jzciq8/hqdefault.jpg',\n",
       " 'https://i.ytimg.com/vi/lRle7Jzciq8/hqdefault.jpg',\n",
       " 'https://i.ytimg.com/vi/CPmcBN2xoxI/hqdefault.jpg',\n",
       " 'https://i.ytimg.com/vi/CPmcBN2xoxI/hqdefault.jpg',\n",
       " 'https://i.ytimg.com/vi/CPmcBN2xoxI/hqdefault.jpg',\n",
       " 'https://i.ytimg.com/vi/CPmcBN2xoxI/hqdefault.jpg',\n",
       " 'https://i.ytimg.com/vi/mdZ4g2o7v9g/hqdefault.jpg',\n",
       " 'https://i.ytimg.com/vi/mdZ4g2o7v9g/hqdefault.jpg',\n",
       " 'https://i.ytimg.com/vi/mdZ4g2o7v9g/hqdefault.jpg',\n",
       " 'https://i.ytimg.com/vi/mdZ4g2o7v9g/hqdefault.jpg',\n",
       " 'https://i.ytimg.com/vi/z3ko4cUOYO0/hqdefault.jpg',\n",
       " 'https://i.ytimg.com/vi/z3ko4cUOYO0/hqdefault.jpg',\n",
       " 'https://i.ytimg.com/vi/z3ko4cUOYO0/hqdefault.jpg',\n",
       " 'https://i.ytimg.com/vi/z3ko4cUOYO0/hqdefault.jpg',\n",
       " 'https://i.ytimg.com/vi/ZLgLCNKQwFw/hqdefault.jpg',\n",
       " 'https://i.ytimg.com/vi/ZLgLCNKQwFw/hqdefault.jpg',\n",
       " 'https://i.ytimg.com/vi/ZLgLCNKQwFw/hqdefault.jpg',\n",
       " 'https://i.ytimg.com/vi/ZLgLCNKQwFw/hqdefault.jpg',\n",
       " 'https://i.ytimg.com/vi/J7hFajBOmBo/hqdefault.jpg',\n",
       " 'https://i.ytimg.com/vi/J7hFajBOmBo/hqdefault.jpg',\n",
       " 'https://i.ytimg.com/vi/J7hFajBOmBo/hqdefault.jpg',\n",
       " 'https://i.ytimg.com/vi/J7hFajBOmBo/hqdefault.jpg',\n",
       " 'https://i.ytimg.com/vi/PXb-jcA2TGA/hqdefault.jpg',\n",
       " 'https://i.ytimg.com/vi/PXb-jcA2TGA/hqdefault.jpg',\n",
       " 'https://i.ytimg.com/vi/PXb-jcA2TGA/hqdefault.jpg',\n",
       " 'https://i.ytimg.com/vi/PXb-jcA2TGA/hqdefault.jpg',\n",
       " 'https://i.ytimg.com/vi/LxHAzwur8cI/hqdefault.jpg',\n",
       " 'https://i.ytimg.com/vi/LxHAzwur8cI/hqdefault.jpg',\n",
       " 'https://i.ytimg.com/vi/LxHAzwur8cI/hqdefault.jpg',\n",
       " 'https://i.ytimg.com/vi/LxHAzwur8cI/hqdefault.jpg',\n",
       " 'https://i.ytimg.com/vi/sBXHecS1S1w/hqdefault.jpg',\n",
       " 'https://i.ytimg.com/vi/sBXHecS1S1w/hqdefault.jpg',\n",
       " 'https://i.ytimg.com/vi/sBXHecS1S1w/hqdefault.jpg',\n",
       " 'https://i.ytimg.com/vi/sBXHecS1S1w/hqdefault.jpg',\n",
       " 'https://i.ytimg.com/vi/l6ZY90YnMy0/hqdefault.jpg',\n",
       " 'https://i.ytimg.com/vi/l6ZY90YnMy0/hqdefault.jpg',\n",
       " 'https://i.ytimg.com/vi/l6ZY90YnMy0/hqdefault.jpg',\n",
       " 'https://i.ytimg.com/vi/l6ZY90YnMy0/hqdefault.jpg',\n",
       " 'https://i.ytimg.com/vi/33onjejJLDs/hqdefault.jpg',\n",
       " 'https://i.ytimg.com/vi/33onjejJLDs/hqdefault.jpg',\n",
       " 'https://i.ytimg.com/vi/33onjejJLDs/hqdefault.jpg',\n",
       " 'https://i.ytimg.com/vi/33onjejJLDs/hqdefault.jpg',\n",
       " 'https://i.ytimg.com/vi/o3eOj-jhhfI/hqdefault.jpg',\n",
       " 'https://i.ytimg.com/vi/o3eOj-jhhfI/hqdefault.jpg',\n",
       " 'https://i.ytimg.com/vi/o3eOj-jhhfI/hqdefault.jpg',\n",
       " 'https://i.ytimg.com/vi/o3eOj-jhhfI/hqdefault.jpg',\n",
       " 'https://i.ytimg.com/vi/ecGcmstmnGA/hqdefault.jpg',\n",
       " 'https://i.ytimg.com/vi/ecGcmstmnGA/hqdefault.jpg',\n",
       " 'https://i.ytimg.com/vi/ecGcmstmnGA/hqdefault.jpg',\n",
       " 'https://i.ytimg.com/vi/ecGcmstmnGA/hqdefault.jpg',\n",
       " 'https://i.ytimg.com/vi/08WWij66k8A/hqdefault.jpg',\n",
       " 'https://i.ytimg.com/vi/08WWij66k8A/hqdefault.jpg',\n",
       " 'https://i.ytimg.com/vi/08WWij66k8A/hqdefault.jpg',\n",
       " 'https://i.ytimg.com/vi/08WWij66k8A/hqdefault.jpg',\n",
       " 'https://i.ytimg.com/vi/bXpeyKIVioA/hqdefault.jpg',\n",
       " 'https://i.ytimg.com/vi/bXpeyKIVioA/hqdefault.jpg',\n",
       " 'https://i.ytimg.com/vi/bXpeyKIVioA/hqdefault.jpg',\n",
       " 'https://i.ytimg.com/vi/bXpeyKIVioA/hqdefault.jpg',\n",
       " 'https://i.ytimg.com/vi/YwxDKs7jNXs/hqdefault.jpg',\n",
       " 'https://i.ytimg.com/vi/YwxDKs7jNXs/hqdefault.jpg',\n",
       " 'https://i.ytimg.com/vi/YwxDKs7jNXs/hqdefault.jpg',\n",
       " 'https://i.ytimg.com/vi/YwxDKs7jNXs/hqdefault.jpg']"
      ]
     },
     "execution_count": 44,
     "metadata": {},
     "output_type": "execute_result"
    }
   ],
   "source": [
    "vid_thumbnails = re.findall(r\"https://i.ytimg.com/vi/[A-Za-z0-9_-]{11}/[A-Za-z0-9_]{9}.jpg\",response_text)\n",
    "vid_thumbnails"
   ]
  },
  {
   "cell_type": "code",
   "execution_count": 46,
   "id": "3f67d412-c358-4089-ad4d-dfdf998ac5a6",
   "metadata": {},
   "outputs": [
    {
     "data": {
      "text/plain": [
       "['watch?v=1izKrQHyx9M',\n",
       " 'watch?v=jXAb1evxaJc',\n",
       " 'watch?v=2dn7XMxRtPE',\n",
       " 'watch?v=Fks4dVnTb5M',\n",
       " 'watch?v=nIuGXeISbSo',\n",
       " 'watch?v=p9pqo970kjw',\n",
       " 'watch?v=L5G-0FbyAsc',\n",
       " 'watch?v=uqDX6hcRf2I',\n",
       " 'watch?v=9ZVfDuqKIQM',\n",
       " 'watch?v=1wMGzlQTyeM',\n",
       " 'watch?v=ivS0xPAbVUs',\n",
       " 'watch?v=UJb799ZLCwQ',\n",
       " 'watch?v=RPCHRtdO9hg',\n",
       " 'watch?v=iN2UWJW3lzo',\n",
       " 'watch?v=lRle7Jzciq8',\n",
       " 'watch?v=CPmcBN2xoxI',\n",
       " 'watch?v=mdZ4g2o7v9g',\n",
       " 'watch?v=z3ko4cUOYO0',\n",
       " 'watch?v=ZLgLCNKQwFw',\n",
       " 'watch?v=J7hFajBOmBo',\n",
       " 'watch?v=PXb-jcA2TGA',\n",
       " 'watch?v=LxHAzwur8cI',\n",
       " 'watch?v=sBXHecS1S1w',\n",
       " 'watch?v=l6ZY90YnMy0',\n",
       " 'watch?v=33onjejJLDs',\n",
       " 'watch?v=o3eOj-jhhfI',\n",
       " 'watch?v=ecGcmstmnGA',\n",
       " 'watch?v=08WWij66k8A',\n",
       " 'watch?v=bXpeyKIVioA',\n",
       " 'watch?v=YwxDKs7jNXs']"
      ]
     },
     "execution_count": 46,
     "metadata": {},
     "output_type": "execute_result"
    }
   ],
   "source": [
    "vid_links = re.findall(r\"watch\\?v=[A-Za-z0-9_-]{11}\", response_text)\n",
    "vid_links"
   ]
  },
  {
   "cell_type": "code",
   "execution_count": 48,
   "id": "83883411-1bf2-4d6b-bf97-df3bf14c1ea8",
   "metadata": {},
   "outputs": [
    {
     "data": {
      "text/plain": [
       "re.compile(r'[0-9]+(\\.[0-9]+)?[a-zA-z]*K views', re.UNICODE)"
      ]
     },
     "execution_count": 48,
     "metadata": {},
     "output_type": "execute_result"
    }
   ],
   "source": [
    "pattern3= re.compile(r\"[0-9]+(\\.[0-9]+)?[a-zA-z]*K views\")\n",
    "pattern3"
   ]
  },
  {
   "cell_type": "code",
   "execution_count": 49,
   "id": "d87e2935-96df-448c-a6a9-6d92b542ec16",
   "metadata": {},
   "outputs": [
    {
     "data": {
      "text/plain": [
       "re.compile(r'\\d+ (minutes|hours|hour|days|day|weeks|week|years|year) ago',\n",
       "           re.UNICODE)"
      ]
     },
     "execution_count": 49,
     "metadata": {},
     "output_type": "execute_result"
    }
   ],
   "source": [
    "pattern4 = re.compile(r\"\\d+ (minutes|hours|hour|days|day|weeks|week|years|year) ago\")\n",
    "pattern4"
   ]
  },
  {
   "cell_type": "code",
   "execution_count": 50,
   "id": "f75dfdd5-a69c-4152-948b-810d617eeb81",
   "metadata": {},
   "outputs": [],
   "source": [
    "matches1 = pattern3.finditer(response_text)\n",
    "matches2 = pattern4.finditer(response_text)"
   ]
  },
  {
   "cell_type": "code",
   "execution_count": 51,
   "id": "1367ad42-bafe-41a6-8264-ddd9077e11bc",
   "metadata": {},
   "outputs": [],
   "source": [
    "vid_viewcounts=[]\n",
    "vid_ages=[]\n",
    "count = 0\n",
    "for match1,match2 in zip(matches1,matches2):\n",
    "    vid_ages.append(match2[0])\n",
    "    vid_viewcounts.append(match1[0])"
   ]
  },
  {
   "cell_type": "code",
   "execution_count": 65,
   "id": "bf3488e7-97dd-4153-a827-598007a8c664",
   "metadata": {},
   "outputs": [
    {
     "data": {
      "text/plain": [
       "[{'title': '⚡Unleashing the Power of PW Internationally⚡| Launching Physics Wallah Gulf',\n",
       "  'thumbnail': 'https://i.ytimg.com/vi/1izKrQHyx9M/hqdefault.jpg',\n",
       "  'link': 'https://www.youtube.com/watch?v=1izKrQHyx9M',\n",
       "  'viewcount': '61K views',\n",
       "  'timeposting': '2 weeks ago'},\n",
       " {'title': 'Big Announcement for Gulf Region Aspirants 🔥| Physics Wallah Gulf Channel Trailer🚀',\n",
       "  'thumbnail': 'https://i.ytimg.com/vi/1izKrQHyx9M/hqdefault.jpg',\n",
       "  'link': 'https://www.youtube.com/watch?v=jXAb1evxaJc',\n",
       "  'viewcount': '61K views',\n",
       "  'timeposting': '2 weeks ago'},\n",
       " {'title': 'Arjuna JEE v/s Arjuna NEET 🏏- Class 11th Faculties ka Cricket Match 🔥',\n",
       "  'thumbnail': 'https://i.ytimg.com/vi/1izKrQHyx9M/hqdefault.jpg',\n",
       "  'link': 'https://www.youtube.com/watch?v=2dn7XMxRtPE',\n",
       "  'viewcount': '93K views',\n",
       "  'timeposting': '3 weeks ago'},\n",
       " {'title': 'How to Study Zoology in Class 11th? Ab Saare Doubts Solve Honge !! 🔥',\n",
       "  'thumbnail': 'https://i.ytimg.com/vi/1izKrQHyx9M/hqdefault.jpg',\n",
       "  'link': 'https://www.youtube.com/watch?v=Fks4dVnTb5M',\n",
       "  'viewcount': '93K views',\n",
       "  'timeposting': '3 weeks ago'},\n",
       " {'title': 'BIGGEST OFFER For Class - 8th ,9th \\\\u0026 10th Students 🤩 || Grab This Opportunity Now 🔥',\n",
       "  'thumbnail': 'https://i.ytimg.com/vi/jXAb1evxaJc/hqdefault.jpg',\n",
       "  'link': 'https://www.youtube.com/watch?v=nIuGXeISbSo',\n",
       "  'viewcount': '350K views',\n",
       "  'timeposting': '3 weeks ago'}]"
      ]
     },
     "execution_count": 65,
     "metadata": {},
     "output_type": "execute_result"
    }
   ],
   "source": [
    "titles = vid_titles[:5]\n",
    "thumbnails = vid_thumbnails[:5]\n",
    "links = vid_links[:5]\n",
    "viewcounts = vid_viewcounts[:5]\n",
    "timeposting = vid_ages[:5]  # Changed variable name from 'ages' to 'timeposting'\n",
    "\n",
    "details_list = []\n",
    "\n",
    "for title, thumbnail, link, viewcount, timepost in zip(titles, thumbnails, links, viewcounts, timeposting):  # Changed variable name from 'age' to 'timepost'\n",
    "    details_dict = {\n",
    "        \"title\": title.split('\"')[-2],\n",
    "        \"thumbnail\": thumbnail,\n",
    "        \"link\": \"https://www.youtube.com/\" + link,\n",
    "        \"viewcount\": viewcount,\n",
    "        \"timeposting\": timepost  # Changed key from 'age' to 'timeposting'\n",
    "    }\n",
    "    details_list.append(details_dict)\n",
    "\n",
    "details_list\n"
   ]
  },
  {
   "cell_type": "code",
   "execution_count": 66,
   "id": "112d91f8-566f-44d1-95ef-1377e3f8a16b",
   "metadata": {},
   "outputs": [],
   "source": [
    "df = pd.DataFrame(details_list)\n",
    "df.to_csv('YtScrapeData.csv', index=False)"
   ]
  },
  {
   "cell_type": "code",
   "execution_count": null,
   "id": "a831c44a-803c-42f7-a1f9-1597417a181a",
   "metadata": {},
   "outputs": [],
   "source": []
  },
  {
   "cell_type": "code",
   "execution_count": null,
   "id": "43e0caf9-8b72-4799-91d0-fa69deb864d7",
   "metadata": {},
   "outputs": [],
   "source": []
  }
 ],
 "metadata": {
  "kernelspec": {
   "display_name": "Python 3 (ipykernel)",
   "language": "python",
   "name": "python3"
  },
  "language_info": {
   "codemirror_mode": {
    "name": "ipython",
    "version": 3
   },
   "file_extension": ".py",
   "mimetype": "text/x-python",
   "name": "python",
   "nbconvert_exporter": "python",
   "pygments_lexer": "ipython3",
   "version": "3.10.8"
  }
 },
 "nbformat": 4,
 "nbformat_minor": 5
}
